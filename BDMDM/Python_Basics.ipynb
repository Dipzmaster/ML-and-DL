{
 "cells": [
  {
   "cell_type": "markdown",
   "id": "2e75731f",
   "metadata": {},
   "source": [
    "## Python Basics Tutorial\n",
    "### Data Types"
   ]
  },
  {
   "cell_type": "code",
   "execution_count": 1,
   "id": "eb72f61e",
   "metadata": {},
   "outputs": [
    {
     "name": "stdout",
     "output_type": "stream",
     "text": [
      "c\n"
     ]
    }
   ],
   "source": [
    "a = 5\n",
    "b = 4\n",
    "\n",
    "c = a + b\n",
    "print('c')"
   ]
  },
  {
   "cell_type": "code",
   "execution_count": 2,
   "id": "af63c711",
   "metadata": {},
   "outputs": [
    {
     "data": {
      "text/plain": [
       "9"
      ]
     },
     "execution_count": 2,
     "metadata": {},
     "output_type": "execute_result"
    }
   ],
   "source": [
    "c"
   ]
  },
  {
   "cell_type": "code",
   "execution_count": 3,
   "id": "28f085f7",
   "metadata": {},
   "outputs": [
    {
     "name": "stdout",
     "output_type": "stream",
     "text": [
      "9\n"
     ]
    }
   ],
   "source": [
    "print(c)"
   ]
  },
  {
   "cell_type": "code",
   "execution_count": 4,
   "id": "ee8c4b95",
   "metadata": {},
   "outputs": [
    {
     "data": {
      "text/plain": [
       "int"
      ]
     },
     "execution_count": 4,
     "metadata": {},
     "output_type": "execute_result"
    }
   ],
   "source": [
    "type(c)"
   ]
  },
  {
   "cell_type": "markdown",
   "id": "aed2e805",
   "metadata": {},
   "source": [
    "### List"
   ]
  },
  {
   "cell_type": "code",
   "execution_count": 5,
   "id": "b3ff6f0f",
   "metadata": {},
   "outputs": [],
   "source": [
    "Fruit=[\"Banana\",\"Mango\",\"Grapes\"]"
   ]
  },
  {
   "cell_type": "code",
   "execution_count": 6,
   "id": "50e2fd19",
   "metadata": {},
   "outputs": [
    {
     "name": "stdout",
     "output_type": "stream",
     "text": [
      "['Banana', 'Mango', 'Grapes']\n"
     ]
    }
   ],
   "source": [
    "print(Fruit)"
   ]
  },
  {
   "cell_type": "code",
   "execution_count": 7,
   "id": "53a30d31",
   "metadata": {},
   "outputs": [
    {
     "data": {
      "text/plain": [
       "'Banana'"
      ]
     },
     "execution_count": 7,
     "metadata": {},
     "output_type": "execute_result"
    }
   ],
   "source": [
    "Fruit[0]"
   ]
  },
  {
   "cell_type": "code",
   "execution_count": 8,
   "id": "1869cd32",
   "metadata": {},
   "outputs": [],
   "source": [
    "Price=[40,120,150]"
   ]
  },
  {
   "cell_type": "code",
   "execution_count": 9,
   "id": "1521b975",
   "metadata": {},
   "outputs": [
    {
     "name": "stdout",
     "output_type": "stream",
     "text": [
      "[40, 120, 150]\n"
     ]
    }
   ],
   "source": [
    "print(Price)"
   ]
  },
  {
   "cell_type": "code",
   "execution_count": 10,
   "id": "b3e7cd26",
   "metadata": {},
   "outputs": [],
   "source": [
    "Fruit.append(\"Cherry\")"
   ]
  },
  {
   "cell_type": "code",
   "execution_count": 11,
   "id": "7f0131ed",
   "metadata": {},
   "outputs": [
    {
     "name": "stdout",
     "output_type": "stream",
     "text": [
      "['Banana', 'Mango', 'Grapes', 'Cherry']\n"
     ]
    }
   ],
   "source": [
    "print(Fruit)"
   ]
  },
  {
   "cell_type": "code",
   "execution_count": 12,
   "id": "671d1c40",
   "metadata": {},
   "outputs": [],
   "source": [
    "Price.append(300)"
   ]
  },
  {
   "cell_type": "code",
   "execution_count": 13,
   "id": "047ac2c7",
   "metadata": {},
   "outputs": [
    {
     "name": "stdout",
     "output_type": "stream",
     "text": [
      "[40, 120, 150, 300]\n"
     ]
    }
   ],
   "source": [
    "print(Price)"
   ]
  },
  {
   "cell_type": "code",
   "execution_count": 14,
   "id": "79099e30",
   "metadata": {},
   "outputs": [],
   "source": [
    "Price.append(\"Fruit prices\")"
   ]
  },
  {
   "cell_type": "code",
   "execution_count": 15,
   "id": "5137b7bd",
   "metadata": {},
   "outputs": [
    {
     "name": "stdout",
     "output_type": "stream",
     "text": [
      "[40, 120, 150, 300, 'Fruit prices']\n"
     ]
    }
   ],
   "source": [
    "print(Price)"
   ]
  },
  {
   "cell_type": "code",
   "execution_count": 16,
   "id": "03f63636",
   "metadata": {},
   "outputs": [],
   "source": [
    "Price.append([1,2,3,4])"
   ]
  },
  {
   "cell_type": "code",
   "execution_count": 17,
   "id": "671d1ceb",
   "metadata": {},
   "outputs": [
    {
     "name": "stdout",
     "output_type": "stream",
     "text": [
      "[40, 120, 150, 300, 'Fruit prices', [1, 2, 3, 4]]\n"
     ]
    }
   ],
   "source": [
    "print(Price)"
   ]
  },
  {
   "cell_type": "code",
   "execution_count": 18,
   "id": "a8f05c0f",
   "metadata": {},
   "outputs": [
    {
     "data": {
      "text/plain": [
       "3"
      ]
     },
     "execution_count": 18,
     "metadata": {},
     "output_type": "execute_result"
    }
   ],
   "source": [
    "Price[5][2]"
   ]
  },
  {
   "cell_type": "code",
   "execution_count": 19,
   "id": "83a55169",
   "metadata": {},
   "outputs": [],
   "source": [
    "a=[1,2,3,4]\n",
    "b=[3,4,5,6]"
   ]
  },
  {
   "cell_type": "code",
   "execution_count": 20,
   "id": "3ad253d2",
   "metadata": {},
   "outputs": [],
   "source": [
    "total_income=a+b"
   ]
  },
  {
   "cell_type": "code",
   "execution_count": 21,
   "id": "8dfe1600",
   "metadata": {},
   "outputs": [
    {
     "data": {
      "text/plain": [
       "[1, 2, 3, 4, 3, 4, 5, 6]"
      ]
     },
     "execution_count": 21,
     "metadata": {},
     "output_type": "execute_result"
    }
   ],
   "source": [
    "total_income"
   ]
  },
  {
   "cell_type": "code",
   "execution_count": 22,
   "id": "68a88c79",
   "metadata": {},
   "outputs": [
    {
     "data": {
      "text/plain": [
       "4"
      ]
     },
     "execution_count": 22,
     "metadata": {},
     "output_type": "execute_result"
    }
   ],
   "source": [
    "len(a)"
   ]
  },
  {
   "cell_type": "code",
   "execution_count": 23,
   "id": "03b7f51d",
   "metadata": {},
   "outputs": [],
   "source": [
    "total_income=[]\n",
    "\n",
    "L=len(a)\n",
    "for i in range(L):\n",
    "    first_income=a[i]\n",
    "    second_income=b[i]\n",
    "    income=first_income+second_income\n",
    "    total_income.append(income)"
   ]
  },
  {
   "cell_type": "code",
   "execution_count": 24,
   "id": "4d2e817c",
   "metadata": {},
   "outputs": [
    {
     "data": {
      "text/plain": [
       "[4, 6, 8, 10]"
      ]
     },
     "execution_count": 24,
     "metadata": {},
     "output_type": "execute_result"
    }
   ],
   "source": [
    "total_income"
   ]
  },
  {
   "cell_type": "code",
   "execution_count": 25,
   "id": "b68660f2",
   "metadata": {},
   "outputs": [],
   "source": [
    "import numpy as np"
   ]
  },
  {
   "cell_type": "code",
   "execution_count": 26,
   "id": "6e2fdefe",
   "metadata": {},
   "outputs": [],
   "source": [
    "A=np.array(a)\n",
    "B=np.array(b)"
   ]
  },
  {
   "cell_type": "code",
   "execution_count": 27,
   "id": "bb3a1157",
   "metadata": {},
   "outputs": [
    {
     "name": "stdout",
     "output_type": "stream",
     "text": [
      "[1 2 3 4]\n",
      "[3 4 5 6]\n"
     ]
    }
   ],
   "source": [
    "print(A)\n",
    "print(B)"
   ]
  },
  {
   "cell_type": "markdown",
   "id": "70c5af02",
   "metadata": {},
   "source": [
    "### Tuples"
   ]
  },
  {
   "cell_type": "code",
   "execution_count": 28,
   "id": "271e3cb0",
   "metadata": {},
   "outputs": [],
   "source": [
    "zip_codes=(\"NY\",\"MS\",\"TX\")"
   ]
  },
  {
   "cell_type": "code",
   "execution_count": 29,
   "id": "55b5a4f8",
   "metadata": {},
   "outputs": [
    {
     "data": {
      "text/plain": [
       "('NY', 'MS', 'TX')"
      ]
     },
     "execution_count": 29,
     "metadata": {},
     "output_type": "execute_result"
    }
   ],
   "source": [
    "zip_codes"
   ]
  },
  {
   "cell_type": "code",
   "execution_count": 30,
   "id": "202b3c1e",
   "metadata": {},
   "outputs": [
    {
     "data": {
      "text/plain": [
       "tuple"
      ]
     },
     "execution_count": 30,
     "metadata": {},
     "output_type": "execute_result"
    }
   ],
   "source": [
    "type(zip_codes)"
   ]
  },
  {
   "cell_type": "code",
   "execution_count": 31,
   "id": "9107c22b",
   "metadata": {},
   "outputs": [
    {
     "ename": "TypeError",
     "evalue": "'tuple' object does not support item assignment",
     "output_type": "error",
     "traceback": [
      "\u001b[1;31m---------------------------------------------------------------------------\u001b[0m",
      "\u001b[1;31mTypeError\u001b[0m                                 Traceback (most recent call last)",
      "\u001b[1;32m~\\AppData\\Local\\Temp/ipykernel_6272/1500023349.py\u001b[0m in \u001b[0;36m<module>\u001b[1;34m\u001b[0m\n\u001b[1;32m----> 1\u001b[1;33m \u001b[0mzip_codes\u001b[0m\u001b[1;33m[\u001b[0m\u001b[1;36m1\u001b[0m\u001b[1;33m]\u001b[0m\u001b[1;33m=\u001b[0m\u001b[1;34m\"US\"\u001b[0m\u001b[1;33m\u001b[0m\u001b[1;33m\u001b[0m\u001b[0m\n\u001b[0m",
      "\u001b[1;31mTypeError\u001b[0m: 'tuple' object does not support item assignment"
     ]
    }
   ],
   "source": [
    "zip_codes[1]=\"US\""
   ]
  },
  {
   "cell_type": "markdown",
   "id": "5549e2ea",
   "metadata": {},
   "source": [
    "### Dictionary"
   ]
  },
  {
   "cell_type": "code",
   "execution_count": 32,
   "id": "0472cf16",
   "metadata": {},
   "outputs": [],
   "source": [
    "Zip_Codes={'Nagpur':'440022','Delhi':'345500','Chennai':'001122'}"
   ]
  },
  {
   "cell_type": "code",
   "execution_count": 33,
   "id": "2294a382",
   "metadata": {},
   "outputs": [
    {
     "data": {
      "text/plain": [
       "{'Nagpur': '440022', 'Delhi': '345500', 'Chennai': '001122'}"
      ]
     },
     "execution_count": 33,
     "metadata": {},
     "output_type": "execute_result"
    }
   ],
   "source": [
    "Zip_Codes"
   ]
  },
  {
   "cell_type": "code",
   "execution_count": 34,
   "id": "f6d5d460",
   "metadata": {},
   "outputs": [
    {
     "data": {
      "text/plain": [
       "dict"
      ]
     },
     "execution_count": 34,
     "metadata": {},
     "output_type": "execute_result"
    }
   ],
   "source": [
    "type(Zip_Codes)"
   ]
  },
  {
   "cell_type": "code",
   "execution_count": 35,
   "id": "34382f3c",
   "metadata": {},
   "outputs": [
    {
     "data": {
      "text/plain": [
       "'440022'"
      ]
     },
     "execution_count": 35,
     "metadata": {},
     "output_type": "execute_result"
    }
   ],
   "source": [
    "Zip_Codes['Nagpur']"
   ]
  },
  {
   "cell_type": "code",
   "execution_count": null,
   "id": "7c70d7e7",
   "metadata": {},
   "outputs": [],
   "source": []
  }
 ],
 "metadata": {
  "kernelspec": {
   "display_name": "Python 3 (ipykernel)",
   "language": "python",
   "name": "python3"
  },
  "language_info": {
   "codemirror_mode": {
    "name": "ipython",
    "version": 3
   },
   "file_extension": ".py",
   "mimetype": "text/x-python",
   "name": "python",
   "nbconvert_exporter": "python",
   "pygments_lexer": "ipython3",
   "version": "3.8.8"
  }
 },
 "nbformat": 4,
 "nbformat_minor": 5
}
