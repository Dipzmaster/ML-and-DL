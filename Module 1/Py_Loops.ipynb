{
 "cells": [
  {
   "cell_type": "code",
   "execution_count": 1,
   "id": "c3ab3583",
   "metadata": {},
   "outputs": [
    {
     "name": "stdout",
     "output_type": "stream",
     "text": [
      "The count is:   0\n",
      "The count is:   1\n",
      "The count is:   2\n",
      "Good bye! count is:  3\n"
     ]
    }
   ],
   "source": [
    "count = 0\n",
    "while(count < 3):\n",
    "    print('The count is:  ', count)\n",
    "    count = count + 1\n",
    "print('Good bye! count is: ', count)"
   ]
  },
  {
   "cell_type": "code",
   "execution_count": 2,
   "id": "481e2d5b",
   "metadata": {},
   "outputs": [
    {
     "name": "stdout",
     "output_type": "stream",
     "text": [
      "Product = 120, Index = 5\n"
     ]
    }
   ],
   "source": [
    "tup = (1,2,3,4,5)\n",
    "\n",
    "prod = 1\n",
    "index = 0\n",
    "\n",
    "while(index < len(tup)):\n",
    "    prod *= tup[index]\n",
    "    index += 1\n",
    "\n",
    "print('Product = {}, Index = {}'.format(prod, index))"
   ]
  },
  {
   "cell_type": "code",
   "execution_count": 3,
   "id": "66188fef",
   "metadata": {},
   "outputs": [],
   "source": [
    "#While else"
   ]
  },
  {
   "cell_type": "code",
   "execution_count": 4,
   "id": "6d90ca12",
   "metadata": {},
   "outputs": [
    {
     "name": "stdout",
     "output_type": "stream",
     "text": [
      "No more numbers in tuple.\n",
      "Product = 120\n"
     ]
    }
   ],
   "source": [
    "tup = (1,2,3,4,5)\n",
    "\n",
    "prod = 1\n",
    "index = 0\n",
    "\n",
    "while index < len(tup):\n",
    "    prod *= tup[index]\n",
    "    index += 1\n",
    "else:\n",
    "    print('No more numbers in tuple.')\n",
    "\n",
    "print('Product = {}'.format(prod))"
   ]
  },
  {
   "cell_type": "code",
   "execution_count": 5,
   "id": "9d3313a0",
   "metadata": {},
   "outputs": [
    {
     "name": "stdout",
     "output_type": "stream",
     "text": [
      "Enter a number to check if its even or odd: 456\n",
      "Congratulations, you entered an even number.\n",
      "Enter a number to check if its even or odd: 123\n",
      "Wrong Number, DUMBO!!\\nGAME OVER\n"
     ]
    }
   ],
   "source": [
    "while True:\n",
    "    num = int(input(\"Enter a number to check if its even or odd: \"))\n",
    "    if num % 2 == 0:\n",
    "        print('Congratulations, you entered an even number.')\n",
    "    else:\n",
    "        break\n",
    "print('Wrong Number, DUMBO!!\\\\nGAME OVER')"
   ]
  },
  {
   "cell_type": "code",
   "execution_count": 6,
   "id": "d4ce21b3",
   "metadata": {},
   "outputs": [
    {
     "name": "stdout",
     "output_type": "stream",
     "text": [
      "i: 0, j:0\n",
      "i: 0, j:1\n",
      "i: 0, j:2\n",
      "i: 1, j:0\n",
      "i: 1, j:1\n",
      "i: 1, j:2\n",
      "i: 2, j:0\n",
      "i: 2, j:1\n",
      "i: 2, j:2\n",
      "i: 3, j:0\n",
      "i: 3, j:1\n",
      "i: 3, j:2\n",
      "i: 4, j:0\n",
      "i: 4, j:1\n",
      "i: 4, j:2\n",
      "i: 5, j:0\n",
      "i: 5, j:1\n",
      "i: 5, j:2\n",
      "i: 6, j:0\n",
      "i: 6, j:1\n",
      "i: 6, j:2\n",
      "i: 7, j:0\n",
      "i: 7, j:1\n",
      "i: 7, j:2\n",
      "i: 8, j:0\n",
      "i: 8, j:1\n",
      "i: 8, j:2\n",
      "i: 9, j:0\n",
      "i: 9, j:1\n",
      "i: 9, j:2\n",
      "I am outside the while loop\n"
     ]
    }
   ],
   "source": [
    "#Nested Loop\n",
    "i = 0\n",
    "\n",
    "while i < 10:\n",
    "    j = 0\n",
    "    while j < 3:\n",
    "        print('i: {}, j:{}'.format(i, j))\n",
    "        j += 1\n",
    "        \n",
    "    i += 1\n",
    "    \n",
    "print('I am outside the while loop')"
   ]
  },
  {
   "cell_type": "code",
   "execution_count": 7,
   "id": "f241cd5b",
   "metadata": {},
   "outputs": [
    {
     "name": "stdout",
     "output_type": "stream",
     "text": [
      "LIST ITERATION: \n",
      "10 20 30 40 50 60 \n",
      "TUPLE ITERATION: \n",
      "10 20 30 40 50 60 \n",
      "STRING ITERATION: \n",
      "P y t h o n \n",
      "DICTIONARY ITERATION: \n",
      "xyz 123\n",
      "abc 345\n"
     ]
    }
   ],
   "source": [
    "print('LIST ITERATION: ')\n",
    "lst = [10,20,30,40,50,60]\n",
    "for element in lst:\n",
    "    print(element, end=' ')\n",
    "print()\n",
    "\n",
    "print('TUPLE ITERATION: ')\n",
    "tup = (10,20,30,40,50,60)\n",
    "for element in tup:\n",
    "    print(element, end=' ')\n",
    "print()\n",
    "\n",
    "print('STRING ITERATION: ')\n",
    "myStr = 'Python'\n",
    "for element in myStr:\n",
    "    print(element, end=' ')\n",
    "print()\n",
    "\n",
    "print('DICTIONARY ITERATION: ')\n",
    "dict = {}\n",
    "dict['xyz'] = 123\n",
    "dict['abc'] = 345\n",
    "for key in dict:\n",
    "    print(key, dict[key])"
   ]
  },
  {
   "cell_type": "code",
   "execution_count": 8,
   "id": "7a2e16f3",
   "metadata": {},
   "outputs": [
    {
     "name": "stdout",
     "output_type": "stream",
     "text": [
      "10\n",
      "20\n",
      "30\n",
      "40\n",
      "50\n",
      "60\n"
     ]
    }
   ],
   "source": [
    "# Iterating by sequence index\n",
    "lst = [10,20,30,40,50,60]\n",
    "for index in range(len(lst)):\n",
    "    print(lst[index])"
   ]
  },
  {
   "cell_type": "code",
   "execution_count": 9,
   "id": "af424644",
   "metadata": {},
   "outputs": [
    {
     "name": "stdout",
     "output_type": "stream",
     "text": [
      "The count is:   1\n",
      "The count is:   3\n",
      "The count is:   5\n",
      "The count is:   7\n",
      "The count is:   9\n",
      "Good bye!\n"
     ]
    }
   ],
   "source": [
    "for count in range(1, 10, 2):\n",
    "    print('The count is:  ', count)\n",
    "print('Good bye!')"
   ]
  },
  {
   "cell_type": "code",
   "execution_count": null,
   "id": "51e489a1",
   "metadata": {},
   "outputs": [],
   "source": []
  }
 ],
 "metadata": {
  "kernelspec": {
   "display_name": "Python 3 (ipykernel)",
   "language": "python",
   "name": "python3"
  },
  "language_info": {
   "codemirror_mode": {
    "name": "ipython",
    "version": 3
   },
   "file_extension": ".py",
   "mimetype": "text/x-python",
   "name": "python",
   "nbconvert_exporter": "python",
   "pygments_lexer": "ipython3",
   "version": "3.8.8"
  }
 },
 "nbformat": 4,
 "nbformat_minor": 5
}
