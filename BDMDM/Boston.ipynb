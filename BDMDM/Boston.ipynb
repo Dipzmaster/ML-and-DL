{
 "cells": [
  {
   "cell_type": "code",
   "execution_count": 1,
   "id": "ce0a6654",
   "metadata": {},
   "outputs": [],
   "source": [
    "## Importing Libraries from the python\n",
    "from sklearn.linear_model import LinearRegression\n",
    "from sklearn.linear_model import Ridge\n",
    "from sklearn.linear_model import Lasso\n",
    "import pandas as pd\n",
    "from sklearn.model_selection import train_test_split\n",
    "import numpy as np\n",
    "from sklearn import metrics\n",
    "from matplotlib import pyplot as plt"
   ]
  },
  {
   "cell_type": "code",
   "execution_count": 2,
   "id": "9fa13ce8",
   "metadata": {},
   "outputs": [
    {
     "data": {
      "text/html": [
       "<div>\n",
       "<style scoped>\n",
       "    .dataframe tbody tr th:only-of-type {\n",
       "        vertical-align: middle;\n",
       "    }\n",
       "\n",
       "    .dataframe tbody tr th {\n",
       "        vertical-align: top;\n",
       "    }\n",
       "\n",
       "    .dataframe thead th {\n",
       "        text-align: right;\n",
       "    }\n",
       "</style>\n",
       "<table border=\"1\" class=\"dataframe\">\n",
       "  <thead>\n",
       "    <tr style=\"text-align: right;\">\n",
       "      <th></th>\n",
       "      <th>CRIM</th>\n",
       "      <th>ZN</th>\n",
       "      <th>INDUS</th>\n",
       "      <th>CHAS</th>\n",
       "      <th>NOX</th>\n",
       "      <th>RM</th>\n",
       "      <th>AGE</th>\n",
       "      <th>DIS</th>\n",
       "      <th>RAD</th>\n",
       "      <th>TAX</th>\n",
       "      <th>PTRATIO</th>\n",
       "      <th>B</th>\n",
       "      <th>LSTAT</th>\n",
       "      <th>MEDV</th>\n",
       "    </tr>\n",
       "  </thead>\n",
       "  <tbody>\n",
       "    <tr>\n",
       "      <th>0</th>\n",
       "      <td>0.00632</td>\n",
       "      <td>18.0</td>\n",
       "      <td>2.31</td>\n",
       "      <td>0</td>\n",
       "      <td>0.538</td>\n",
       "      <td>6.575</td>\n",
       "      <td>65.2</td>\n",
       "      <td>4.0900</td>\n",
       "      <td>1</td>\n",
       "      <td>296</td>\n",
       "      <td>15.3</td>\n",
       "      <td>396.90</td>\n",
       "      <td>4.98</td>\n",
       "      <td>24.0</td>\n",
       "    </tr>\n",
       "    <tr>\n",
       "      <th>1</th>\n",
       "      <td>0.02731</td>\n",
       "      <td>0.0</td>\n",
       "      <td>7.07</td>\n",
       "      <td>0</td>\n",
       "      <td>0.469</td>\n",
       "      <td>6.421</td>\n",
       "      <td>78.9</td>\n",
       "      <td>4.9671</td>\n",
       "      <td>2</td>\n",
       "      <td>242</td>\n",
       "      <td>17.8</td>\n",
       "      <td>396.90</td>\n",
       "      <td>9.14</td>\n",
       "      <td>21.6</td>\n",
       "    </tr>\n",
       "    <tr>\n",
       "      <th>2</th>\n",
       "      <td>0.02729</td>\n",
       "      <td>0.0</td>\n",
       "      <td>7.07</td>\n",
       "      <td>0</td>\n",
       "      <td>0.469</td>\n",
       "      <td>7.185</td>\n",
       "      <td>61.1</td>\n",
       "      <td>4.9671</td>\n",
       "      <td>2</td>\n",
       "      <td>242</td>\n",
       "      <td>17.8</td>\n",
       "      <td>392.83</td>\n",
       "      <td>4.03</td>\n",
       "      <td>34.7</td>\n",
       "    </tr>\n",
       "    <tr>\n",
       "      <th>3</th>\n",
       "      <td>0.03237</td>\n",
       "      <td>0.0</td>\n",
       "      <td>2.18</td>\n",
       "      <td>0</td>\n",
       "      <td>0.458</td>\n",
       "      <td>6.998</td>\n",
       "      <td>45.8</td>\n",
       "      <td>6.0622</td>\n",
       "      <td>3</td>\n",
       "      <td>222</td>\n",
       "      <td>18.7</td>\n",
       "      <td>394.63</td>\n",
       "      <td>2.94</td>\n",
       "      <td>33.4</td>\n",
       "    </tr>\n",
       "    <tr>\n",
       "      <th>4</th>\n",
       "      <td>0.06905</td>\n",
       "      <td>0.0</td>\n",
       "      <td>2.18</td>\n",
       "      <td>0</td>\n",
       "      <td>0.458</td>\n",
       "      <td>7.147</td>\n",
       "      <td>54.2</td>\n",
       "      <td>6.0622</td>\n",
       "      <td>3</td>\n",
       "      <td>222</td>\n",
       "      <td>18.7</td>\n",
       "      <td>396.90</td>\n",
       "      <td>5.33</td>\n",
       "      <td>36.2</td>\n",
       "    </tr>\n",
       "  </tbody>\n",
       "</table>\n",
       "</div>"
      ],
      "text/plain": [
       "      CRIM    ZN  INDUS  CHAS    NOX     RM   AGE     DIS  RAD  TAX  PTRATIO  \\\n",
       "0  0.00632  18.0   2.31     0  0.538  6.575  65.2  4.0900    1  296     15.3   \n",
       "1  0.02731   0.0   7.07     0  0.469  6.421  78.9  4.9671    2  242     17.8   \n",
       "2  0.02729   0.0   7.07     0  0.469  7.185  61.1  4.9671    2  242     17.8   \n",
       "3  0.03237   0.0   2.18     0  0.458  6.998  45.8  6.0622    3  222     18.7   \n",
       "4  0.06905   0.0   2.18     0  0.458  7.147  54.2  6.0622    3  222     18.7   \n",
       "\n",
       "        B  LSTAT  MEDV  \n",
       "0  396.90   4.98  24.0  \n",
       "1  396.90   9.14  21.6  \n",
       "2  392.83   4.03  34.7  \n",
       "3  394.63   2.94  33.4  \n",
       "4  396.90   5.33  36.2  "
      ]
     },
     "execution_count": 2,
     "metadata": {},
     "output_type": "execute_result"
    }
   ],
   "source": [
    "data=pd.read_csv(\"Housing Boston Data.csv\")\n",
    "data.head()"
   ]
  },
  {
   "cell_type": "code",
   "execution_count": 3,
   "id": "8e588b35",
   "metadata": {},
   "outputs": [],
   "source": [
    "### Splitting data in X and y i.e. Output and input variables\n",
    "y=data[\"MEDV\"]\n",
    "X=data.drop('MEDV', axis=1)\n",
    "X_train,X_test, y_train, y_test=train_test_split(X,y,test_size=0.33, random_state=42)"
   ]
  },
  {
   "cell_type": "code",
   "execution_count": 4,
   "id": "7085383b",
   "metadata": {},
   "outputs": [],
   "source": [
    "### Fitting linear regression model on the data\n",
    "lm = LinearRegression()\n",
    "model = lm.fit(X_train,y_train)"
   ]
  },
  {
   "cell_type": "code",
   "execution_count": 5,
   "id": "e97f105d",
   "metadata": {},
   "outputs": [
    {
     "name": "stdout",
     "output_type": "stream",
     "text": [
      "Coefficients: [-1.30650530e-01  4.76340743e-02 -4.93430797e-02  9.64036141e-02\n",
      " -1.46493397e+01  3.12871134e+00 -2.34294916e-02 -1.45881143e+00\n",
      "  2.49182099e-01 -1.33353949e-02 -8.35057650e-01  5.70780438e-03\n",
      " -3.69953166e-01]\n",
      "Intercept: 39.26573049013372\n",
      "R-Square: 0.783642566056671\n"
     ]
    }
   ],
   "source": [
    "print(\"Coefficients:\",lm.coef_)\n",
    "print(\"Intercept:\",lm.intercept_)\n",
    "print(\"R-Square:\",lm.score(X_train,y_train))"
   ]
  },
  {
   "cell_type": "code",
   "execution_count": 6,
   "id": "b74d6f02",
   "metadata": {},
   "outputs": [],
   "source": [
    "y_pred=lm.predict(X_train)"
   ]
  },
  {
   "cell_type": "code",
   "execution_count": 7,
   "id": "ba988ff2",
   "metadata": {},
   "outputs": [
    {
     "data": {
      "text/plain": [
       "2.7580423942443235"
      ]
     },
     "execution_count": 7,
     "metadata": {},
     "output_type": "execute_result"
    }
   ],
   "source": [
    "np.mean(abs(y_train-y_pred))"
   ]
  },
  {
   "cell_type": "code",
   "execution_count": 8,
   "id": "f925f54f",
   "metadata": {},
   "outputs": [
    {
     "name": "stdout",
     "output_type": "stream",
     "text": [
      "Mean Absolute error: 2.7580423942443235\n",
      "Mean Absolute Percentage Error: 0.14163754496700204\n",
      "Mean Square Error: 13.752284633675034\n",
      "Root Mean Square Error: 3.7084072906943533\n"
     ]
    }
   ],
   "source": [
    "#Checking performance of train data\n",
    "y_pred_train = lm.predict(X_train)\n",
    "print(\"Mean Absolute error:\", np.mean(abs(y_pred_train-y_train)))\n",
    "print(\"Mean Absolute Percentage Error:\", np.mean(abs(y_pred_train-y_train)/y_train))\n",
    "print(\"Mean Square Error:\", metrics.mean_squared_error(y_pred_train,y_train))\n",
    "print(\"Root Mean Square Error:\", np.sqrt(metrics.mean_squared_error(y_pred_train,y_train)))"
   ]
  },
  {
   "cell_type": "code",
   "execution_count": 9,
   "id": "c8a8ef4a",
   "metadata": {},
   "outputs": [
    {
     "name": "stdout",
     "output_type": "stream",
     "text": [
      "Mean Absolute error: 2.851646641986025\n",
      "Mean Absolute Percentage Error: 0.15768791878578428\n",
      "Mean Square Error: 14.325165111538132\n",
      "Root Mean Square Error: 3.7848599857244563\n"
     ]
    }
   ],
   "source": [
    "#Checking performance of test data\n",
    "y_pred = lm.predict(X_test)\n",
    "print(\"Mean Absolute error:\",np.mean(abs(y_pred-y_test)))\n",
    "print(\"Mean Absolute Percentage Error:\",np.mean(abs(y_pred-y_test)/y_test))\n",
    "print(\"Mean Square Error:\",metrics.mean_squared_error(y_pred,y_test))\n",
    "print(\"Root Mean Square Error:\",np.sqrt(metrics.mean_squared_error(y_pred,y_test)))"
   ]
  },
  {
   "cell_type": "code",
   "execution_count": 10,
   "id": "bd5cde35",
   "metadata": {},
   "outputs": [],
   "source": [
    "##### We will see application of ridge and lasso regression in controlling the overfitting of regression model"
   ]
  },
  {
   "cell_type": "code",
   "execution_count": 12,
   "id": "96ecd54c",
   "metadata": {},
   "outputs": [
    {
     "data": {
      "image/png": "[encoded data removed]",
      "text/plain": [
       "<Figure size 432x288 with 1 Axes>"
      ]
     },
     "metadata": {
      "needs_background": "light"
     },
     "output_type": "display_data"
    }
   ],
   "source": [
    "from sklearn.linear_model import Ridge\n",
    "from matplotlib import pyplot as plt\n",
    "rr = Ridge(alpha=0.01) \n",
    "# higher the alpha value, more restriction on the coefficients; low alpha > more generalization, coefficients are barely\n",
    "# restricted and in this case linear and ridge regression resembles\n",
    "rr.fit(X_train, y_train)\n",
    "rr10 = Ridge(alpha=10) \n",
    "# comparison with alpha value\n",
    "rr10.fit(X_train, y_train)\n",
    "### Comparing the coefficients\n",
    "plt.plot(lm.coef_,alpha=0.4,linestyle='none',marker='o',markersize=7,color='green',label='Linear Regression')\n",
    "plt.plot(rr.coef_,alpha=0.7,linestyle='none',marker='*',markersize=5,color='red',label=r'Ridge; $alpha = 0.01$',zorder=7) \n",
    "# zorder for ordering the markers\n",
    "plt.plot(rr10.coef_,alpha=0.5,linestyle='none',marker='d',markersize=6,color='blue',label=r'Ridge; $alpha = 10$') \n",
    "# alpha here is for transparency\n",
    "plt.xlabel('Coefficient Index',fontsize=16)\n",
    "plt.ylabel('Coefficient Magnitude',fontsize=16)\n",
    "plt.legend(fontsize=13,loc='center left', bbox_to_anchor=(1, 0.5))\n",
    "plt.show()"
   ]
  },
  {
   "cell_type": "code",
   "execution_count": 13,
   "id": "f93ac162",
   "metadata": {},
   "outputs": [
    {
     "data": {
      "text/plain": [
       "array([-0.12404949,  0.04893393, -0.12009501,  0.02021249, -1.36800345,\n",
       "        2.94879641, -0.03211075, -1.23441392,  0.22923497, -0.01494108,\n",
       "       -0.67687048,  0.00575846, -0.39802504])"
      ]
     },
     "execution_count": 13,
     "metadata": {},
     "output_type": "execute_result"
    }
   ],
   "source": [
    "rr10.coef_"
   ]
  },
  {
   "cell_type": "code",
   "execution_count": 14,
   "id": "2f05bae4",
   "metadata": {},
   "outputs": [
    {
     "data": {
      "image/png": "[encoded data removed]",
      "text/plain": [
       "<Figure size 432x288 with 1 Axes>"
      ]
     },
     "metadata": {
      "needs_background": "light"
     },
     "output_type": "display_data"
    }
   ],
   "source": [
    "##Runing lasso regression \n",
    "from sklearn.linear_model import Lasso\n",
    "lasso = Lasso(alpha=0.01, max_iter=10e5)\n",
    "lasso.fit(X_train,y_train)\n",
    "lasso10 = Lasso(alpha=10, max_iter=10e5)\n",
    "lasso10.fit(X_train,y_train)\n",
    "### Comparing the coefficients \n",
    "plt.plot(lm.coef_,alpha=0.4,linestyle='none',marker='o',markersize=7,color='green',label='Linear Regression')\n",
    "plt.plot(lasso.coef_,alpha=0.7,linestyle='none',marker='*',markersize=5,color='red',label=r'Lasso; $alpha = 0.01$',zorder=7) \n",
    "# zorder for ordering the markers\n",
    "plt.plot(lasso10.coef_,alpha=0.5,linestyle='none',marker='d',markersize=6,color='blue',label=r'Lasso; $alpha = 10$') \n",
    "# alpha here is for transparency\n",
    "plt.xlabel('Coefficient Index',fontsize=16)\n",
    "plt.ylabel('Coefficient Magnitude',fontsize=16)\n",
    "plt.legend(fontsize=13,loc='center left', bbox_to_anchor=(1, 0.5))\n",
    "plt.show()"
   ]
  },
  {
   "cell_type": "code",
   "execution_count": 15,
   "id": "b077bf7a",
   "metadata": {},
   "outputs": [
    {
     "data": {
      "text/plain": [
       "array([-0.        ,  0.03462864, -0.        ,  0.        , -0.        ,\n",
       "        0.        , -0.        , -0.        ,  0.        , -0.01503048,\n",
       "       -0.        ,  0.0061784 , -0.37719344])"
      ]
     },
     "execution_count": 15,
     "metadata": {},
     "output_type": "execute_result"
    }
   ],
   "source": [
    "lasso10.coef_"
   ]
  },
  {
   "cell_type": "code",
   "execution_count": 16,
   "id": "1934747f",
   "metadata": {},
   "outputs": [
    {
     "name": "stdout",
     "output_type": "stream",
     "text": [
      "21.057559399690575\n",
      "7.221445484801269\n",
      "0.4330309667932878\n"
     ]
    }
   ],
   "source": [
    "print(np.sum(abs(lm.coef_)))\n",
    "print(np.sum(abs(rr10.coef_)))\n",
    "print(np.sum(abs(lasso10.coef_)))"
   ]
  },
  {
   "cell_type": "code",
   "execution_count": 17,
   "id": "cec74ad2",
   "metadata": {},
   "outputs": [
    {
     "data": {
      "text/plain": [
       "array([-1.28556732e-01,  4.76564283e-02, -6.47057460e-02,  0.00000000e+00,\n",
       "       -1.13871095e+01,  3.14156647e+00, -2.58043142e-02, -1.40029107e+00,\n",
       "        2.42515265e-01, -1.37109737e-02, -7.93874909e-01,  5.75294021e-03,\n",
       "       -3.73517598e-01])"
      ]
     },
     "execution_count": 17,
     "metadata": {},
     "output_type": "execute_result"
    }
   ],
   "source": [
    "lasso.coef_"
   ]
  },
  {
   "cell_type": "code",
   "execution_count": 18,
   "id": "14db1047",
   "metadata": {},
   "outputs": [
    {
     "name": "stdout",
     "output_type": "stream",
     "text": [
      "Mean Absolute error Linear: 2.851646641986025\n",
      "Mean Absolute error Ridge: 2.862209628656594\n",
      "Mean Absolute error Lasso: 3.929932384043739\n"
     ]
    }
   ],
   "source": [
    "print(\"Mean Absolute error Linear:\",np.mean(abs(lm.predict(X_test)-y_test)))\n",
    "print(\"Mean Absolute error Ridge:\",np.mean(abs(rr10.predict(X_test)-y_test)))\n",
    "print(\"Mean Absolute error Lasso:\",np.mean(abs(lasso10.predict(X_test)-y_test)))"
   ]
  },
  {
   "cell_type": "code",
   "execution_count": 19,
   "id": "c0841d1b",
   "metadata": {},
   "outputs": [],
   "source": [
    "#### Comouting bias and variance of models"
   ]
  },
  {
   "cell_type": "code",
   "execution_count": 20,
   "id": "eaa75c59",
   "metadata": {},
   "outputs": [
    {
     "name": "stdout",
     "output_type": "stream",
     "text": [
      "Bias and variance of lm Model: 0.2464359406676202 Variance: 38.37288719348247\n",
      "Bias and variance of ridge Model: 0.32114474591734776 Variance: 37.5220997132702\n",
      "Bias and variance of lasso Model: 1.112588380235234 Variance: 26.073117477339235\n"
     ]
    }
   ],
   "source": [
    "y_pred_lm=lm.predict(X_test)\n",
    "y_pred_ridge=rr10.predict(X_test)\n",
    "y_pred_lasso=lasso10.predict(X_test)\n",
    "print(\"Bias and variance of lm Model:\",np.mean(y_pred_lm)-np.mean(y_test),\"Variance:\",np.var(y_pred_lm))\n",
    "print(\"Bias and variance of ridge Model:\",np.mean(y_pred_ridge)-np.mean(y_test),\"Variance:\",np.var(y_pred_ridge))\n",
    "print(\"Bias and variance of lasso Model:\",np.mean(y_pred_lasso)-np.mean(y_test),\"Variance:\",np.var(y_pred_lasso))"
   ]
  },
  {
   "cell_type": "code",
   "execution_count": 21,
   "id": "7fbd8ab9",
   "metadata": {},
   "outputs": [
    {
     "name": "stdout",
     "output_type": "stream",
     "text": [
      "Bias and variance of lm Model: 0.2464359406676202 Variance: 38.37288719348247\n",
      "Bias and variance of ridge Model: 0.3748711011355219 Variance: 36.4678193969874\n",
      "Bias and variance of lasso Model: 1.294032556026096 Variance: 16.798776095834445\n"
     ]
    }
   ],
   "source": [
    "alpha=100\n",
    "y_pred_ols=lm.predict(X_test)\n",
    "rr = Ridge(alpha=alpha)\n",
    "rr.fit(X_train, y_train)\n",
    "y_pred_ridge=rr.predict(X_test)\n",
    "lasso = Lasso(alpha=alpha)\n",
    "lasso.fit(X_train,y_train)\n",
    "y_pred_lasso=lasso.predict(X_test)\n",
    "print(\"Bias and variance of lm Model:\",np.mean(y_pred_lm)-np.mean(y_test),\"Variance:\",np.var(y_pred_lm))\n",
    "print(\"Bias and variance of ridge Model:\",np.mean(y_pred_ridge)-np.mean(y_test),\"Variance:\",np.var(y_pred_ridge))\n",
    "print(\"Bias and variance of lasso Model:\",np.mean(y_pred_lasso)-np.mean(y_test),\"Variance:\",np.var(y_pred_lasso))"
   ]
  },
  {
   "cell_type": "code",
   "execution_count": 22,
   "id": "26feb5fa",
   "metadata": {},
   "outputs": [],
   "source": [
    "###### Comparing bias,variance, and MAE of the model for ridge, lasso, and linear model"
   ]
  },
  {
   "cell_type": "code",
   "execution_count": 23,
   "id": "f6219e88",
   "metadata": {},
   "outputs": [],
   "source": [
    "alphas = np.linspace(0.001, 10, 1000)\n",
    "lm_bias=[]\n",
    "lm_variance=[]\n",
    "lm_mae=[]\n",
    "rr_bias=[]\n",
    "rr_variance=[]\n",
    "rr_mae=[]\n",
    "lasso_bias=[]\n",
    "lasso_variance=[]\n",
    "lasso_mae=[]\n",
    "for alpha in alphas:\n",
    "    y_pred_lm=lm.predict(X_test)\n",
    "    lm_bias.append(np.mean(y_pred_lm)-np.mean(y_test))\n",
    "    lm_variance.append(np.var(y_pred_lm))\n",
    "    lm_mae.append(np.mean(abs(y_pred_lm-y_test)))\n",
    "    rr = Ridge(alpha=alpha)\n",
    "    rr.fit(X_train, y_train)\n",
    "    y_pred_ridge=rr.predict(X_test)\n",
    "    rr_bias.append(np.mean(y_pred_ridge)-np.mean(y_test))\n",
    "    rr_variance.append(np.var(y_pred_ridge))\n",
    "    rr_mae.append(np.mean(abs(y_pred_ridge-y_test)))\n",
    "    lasso = Lasso(alpha=alpha)\n",
    "    lasso.fit(X_train,y_train)\n",
    "    y_pred_lasso=lasso.predict(X_test)\n",
    "    lasso_bias.append(np.mean(y_pred_lasso)-np.mean(y_test))\n",
    "    lasso_variance.append(np.var(y_pred_lasso))\n",
    "    lasso_mae.append(np.mean(abs(y_pred_lasso-y_test)))"
   ]
  },
  {
   "cell_type": "code",
   "execution_count": 24,
   "id": "b0319d3b",
   "metadata": {},
   "outputs": [
    {
     "data": {
      "image/png": "[encoded data removed]",
      "text/plain": [
       "<Figure size 720x288 with 2 Axes>"
      ]
     },
     "metadata": {
      "needs_background": "light"
     },
     "output_type": "display_data"
    }
   ],
   "source": [
    "plt.figure(figsize=(10, 4))\n",
    "plt.subplot(1,2, 1)\n",
    "plt.plot(alphas, lm_bias, label=\"LM\", color=\"#2ca25f\")\n",
    "plt.plot(alphas, rr_bias, label=\"Ridge\", color=\"#d95f0e\")\n",
    "plt.plot(alphas, lasso_bias, label=\"Lasso\", color=\"#2b8cbe\")\n",
    "plt.xlabel(\"Regularization coefficient\")\n",
    "plt.ylabel(\"Bias\")\n",
    "plt.title(\"Bias vs Alpha\")\n",
    "plt.legend(loc=\"upper right\")\n",
    "plt.grid()\n",
    "plt.subplot(1, 2, 2)\n",
    "plt.plot(alphas, lm_variance, label=\"LM\", color=\"#2ca25f\")\n",
    "plt.plot(alphas, rr_variance, label=\"Ridge\", color=\"#d95f0e\")\n",
    "plt.plot(alphas, lasso_variance, label=\"Lasso\", color=\"#2b8cbe\")\n",
    "plt.xlabel(\"Regularization coefficient\")\n",
    "plt.ylabel(\"Variance\")\n",
    "plt.title(\"Variance vs Alpha\")\n",
    "plt.legend(loc=\"upper right\")\n",
    "plt.grid()"
   ]
  },
  {
   "cell_type": "code",
   "execution_count": 25,
   "id": "73ad16a1",
   "metadata": {},
   "outputs": [
    {
     "data": {
      "image/png": "[encoded data removed]",
      "text/plain": [
       "<Figure size 432x288 with 1 Axes>"
      ]
     },
     "metadata": {
      "needs_background": "light"
     },
     "output_type": "display_data"
    }
   ],
   "source": [
    "plt.subplot(1, 1, 1)\n",
    "plt.plot(alphas, lm_mae, label=\"LM\", color=\"#2ca25f\")\n",
    "plt.plot(alphas, rr_mae, label=\"Ridge\", color=\"#d95f0e\")\n",
    "#plt.plot(alphas, lasso_mae, label=\\\"Lasso\\\", color=\\\"#2b8cbe\\\")\n",
    "plt.xlabel(\"Regularization coefficient\")\n",
    "plt.ylabel(\"MAE\")\n",
    "plt.title(\"MAE vs Alpha\")\n",
    "plt.legend(loc=\"upper right\")\n",
    "plt.grid()\n",
    "plt.show()"
   ]
  },
  {
   "cell_type": "code",
   "execution_count": 26,
   "id": "d4b9ad16",
   "metadata": {},
   "outputs": [],
   "source": [
    "from sklearn.model_selection import GridSearchCV"
   ]
  },
  {
   "cell_type": "code",
   "execution_count": 27,
   "id": "dbe19925",
   "metadata": {},
   "outputs": [],
   "source": [
    "Alphas=np.linspace(0.001,5,1000)"
   ]
  },
  {
   "cell_type": "code",
   "execution_count": 28,
   "id": "d6e2084c",
   "metadata": {},
   "outputs": [],
   "source": [
    "param_grid = {'alpha': Alphas}"
   ]
  },
  {
   "cell_type": "code",
   "execution_count": 29,
   "id": "b54c9e41",
   "metadata": {},
   "outputs": [],
   "source": [
    "#Create the base model\n",
    "rr = Ridge()\n",
    "# Instantiate the grid search model\n",
    "grid_search = GridSearchCV(estimator = rr, param_grid = param_grid,scoring='neg_mean_absolute_error',\n",
    "                           cv = 3, n_jobs = -1, verbose = 2)"
   ]
  },
  {
   "cell_type": "code",
   "execution_count": 30,
   "id": "47b550be",
   "metadata": {},
   "outputs": [
    {
     "name": "stdout",
     "output_type": "stream",
     "text": [
      "Fitting 3 folds for each of 1000 candidates, totalling 3000 fits\n"
     ]
    },
    {
     "data": {
      "text/plain": [
       "{'alpha': 0.001}"
      ]
     },
     "execution_count": 30,
     "metadata": {},
     "output_type": "execute_result"
    }
   ],
   "source": [
    "#Fit the grid search to the data\n",
    "grid_search.fit(X_train, y_train)\n",
    "grid_search.best_params_"
   ]
  },
  {
   "cell_type": "code",
   "execution_count": 31,
   "id": "05c1db36",
   "metadata": {},
   "outputs": [
    {
     "data": {
      "text/plain": [
       "-2.8288320549856665"
      ]
     },
     "execution_count": 31,
     "metadata": {},
     "output_type": "execute_result"
    }
   ],
   "source": [
    "grid_search.best_score_"
   ]
  },
  {
   "cell_type": "code",
   "execution_count": null,
   "id": "8ffccd9f",
   "metadata": {},
   "outputs": [],
   "source": []
  }
 ],
 "metadata": {
  "kernelspec": {
   "display_name": "Python 3 (ipykernel)",
   "language": "python",
   "name": "python3"
  },
  "language_info": {
   "codemirror_mode": {
    "name": "ipython",
    "version": 3
   },
   "file_extension": ".py",
   "mimetype": "text/x-python",
   "name": "python",
   "nbconvert_exporter": "python",
   "pygments_lexer": "ipython3",
   "version": "3.8.8"
  }
 },
 "nbformat": 4,
 "nbformat_minor": 5
}
