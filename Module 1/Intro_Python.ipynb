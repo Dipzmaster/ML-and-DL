{
 "cells": [
  {
   "cell_type": "code",
   "execution_count": 1,
   "id": "73d224a5",
   "metadata": {},
   "outputs": [],
   "source": [
    "#Father of Python - GUIDO VAN ROSSUM"
   ]
  },
  {
   "cell_type": "code",
   "execution_count": 2,
   "id": "875dee50",
   "metadata": {},
   "outputs": [],
   "source": [
    "#Python Used in :\n",
    "#Desktop Applications (Calculator, Notepad, etc..)\n",
    "#Web Applications (Youtube, Dropbox, Google, Instagram, Quora, Spotify)\n",
    "#Scientific and Numeric Computing (Scipy, Numpy)\n",
    "#Database Applications (Library Management Systems, Pharmaceutical)\n",
    "#Network Applications (Network Sniffer, Network Parameter extraction, Routing Algo's like OSPF)\n",
    "#Developing Games (Battlefield, Sims 4, PUBG)\n",
    "#Data Science (Pandas, Matplotlib, Seaborn, etc)\n",
    "#Machine Learning (scikit)\n",
    "#AI (AIMA - AI: A Modern Approach)\n",
    "#IOT (Raspberry pi, Phillips(works great with low level code in c++))"
   ]
  },
  {
   "cell_type": "code",
   "execution_count": 3,
   "id": "4aa1f913",
   "metadata": {},
   "outputs": [
    {
     "name": "stdout",
     "output_type": "stream",
     "text": [
      "30\n"
     ]
    }
   ],
   "source": [
    "a = 10\n",
    "b = 20\n",
    "print(a+b)"
   ]
  },
  {
   "cell_type": "code",
   "execution_count": 4,
   "id": "0278f2ba",
   "metadata": {},
   "outputs": [
    {
     "name": "stdout",
     "output_type": "stream",
     "text": [
      "60\n"
     ]
    }
   ],
   "source": [
    "a, b, c = 10, 20, 30\n",
    "print(a+b+c)"
   ]
  },
  {
   "cell_type": "code",
   "execution_count": 5,
   "id": "30a6a943",
   "metadata": {},
   "outputs": [
    {
     "name": "stdout",
     "output_type": "stream",
     "text": [
      "['False', 'None', 'True', 'and', 'as', 'assert', 'async', 'await', 'break', 'class', 'continue', 'def', 'del', 'elif', 'else', 'except', 'finally', 'for', 'from', 'global', 'if', 'import', 'in', 'is', 'lambda', 'nonlocal', 'not', 'or', 'pass', 'raise', 'return', 'try', 'while', 'with', 'yield']\n",
      "35\n"
     ]
    }
   ],
   "source": [
    "import keyword\n",
    "print(keyword.kwlist);\n",
    "print(len(keyword.kwlist));"
   ]
  },
  {
   "cell_type": "code",
   "execution_count": 6,
   "id": "7b1683e6",
   "metadata": {},
   "outputs": [
    {
     "name": "stdout",
     "output_type": "stream",
     "text": [
      "140713794939280\n"
     ]
    }
   ],
   "source": [
    "Abc123 = 20\n",
    "print(id(Abc123))"
   ]
  },
  {
   "cell_type": "code",
   "execution_count": 7,
   "id": "08de8620",
   "metadata": {},
   "outputs": [],
   "source": [
    "#Numeric - int, float, complex (Immutable)\n",
    "#Boolean - bool (True/False)\n",
    "#Strings (Immutable)\n",
    "    #List (Mutable, mostly used to store homogeneous data types)\n",
    "    #Tuple (Immutable, faster compared to List)\n",
    "    #Set (Unordered collection of items, mutable, removes duplicates)\n",
    "    #Dictionary (Unordered collection of Key-Value Pairs, Mutable, Keys are Unique - values may not be unique)"
   ]
  },
  {
   "cell_type": "code",
   "execution_count": 8,
   "id": "9a4fd47b",
   "metadata": {},
   "outputs": [
    {
     "name": "stdout",
     "output_type": "stream",
     "text": [
      "<class 'int'>\n",
      "<class 'float'>\n",
      "<class 'complex'>\n"
     ]
    }
   ],
   "source": [
    "a = 5;\n",
    "b = 5.0;\n",
    "c = 5 + 0j;\n",
    "\n",
    "print(type(a))\n",
    "print(type(b))\n",
    "print(type(c))"
   ]
  },
  {
   "cell_type": "code",
   "execution_count": 9,
   "id": "0db266cc",
   "metadata": {},
   "outputs": [
    {
     "name": "stdout",
     "output_type": "stream",
     "text": [
      "<class 'complex'>\n",
      "(15+20j)\n",
      "True\n",
      "10.0\n",
      "20.0\n"
     ]
    }
   ],
   "source": [
    "c = 10+20j\n",
    "print(type(c))\n",
    "print(c + 5)\n",
    "\n",
    "print(isinstance(c, complex))\n",
    "print(c.real)\n",
    "print(c.imag)"
   ]
  },
  {
   "cell_type": "code",
   "execution_count": 10,
   "id": "8037b513",
   "metadata": {},
   "outputs": [
    {
     "name": "stdout",
     "output_type": "stream",
     "text": [
      "<class 'bool'>\n",
      "<class 'float'>\n"
     ]
    }
   ],
   "source": [
    "a = True\n",
    "b = 10.6e-2\n",
    "print(type(a))\n",
    "print(type(b))"
   ]
  },
  {
   "cell_type": "code",
   "execution_count": 11,
   "id": "b0a78d18",
   "metadata": {},
   "outputs": [
    {
     "name": "stdout",
     "output_type": "stream",
     "text": [
      "Enter a number: 20\n",
      "20\n"
     ]
    }
   ],
   "source": [
    "a = input(\"Enter a number: \")\n",
    "print(a)"
   ]
  },
  {
   "cell_type": "code",
   "execution_count": 12,
   "id": "fb2a7afa",
   "metadata": {},
   "outputs": [
    {
     "name": "stdout",
     "output_type": "stream",
     "text": [
      "a = 20\n",
      "b = 30\n",
      "50\n"
     ]
    }
   ],
   "source": [
    "a = int(input(\"a = \"))\n",
    "b = int(input(\"b = \"))\n",
    "\n",
    "print(a + b)"
   ]
  },
  {
   "cell_type": "code",
   "execution_count": 13,
   "id": "d515f08a",
   "metadata": {},
   "outputs": [
    {
     "name": "stdout",
     "output_type": "stream",
     "text": [
      "Enter a number: 50\n",
      "50\n",
      "50.000000\n",
      "50\n"
     ]
    }
   ],
   "source": [
    "num = int(input(\"Enter a number: \"))\n",
    "print(num)\n",
    "print('%f' % num)\n",
    "print('{}'.format(num))"
   ]
  },
  {
   "cell_type": "code",
   "execution_count": 14,
   "id": "84d9a4ce",
   "metadata": {},
   "outputs": [
    {
     "name": "stdout",
     "output_type": "stream",
     "text": [
      "Please enter a number: 41\n",
      "User has entered 41. Bye\n"
     ]
    }
   ],
   "source": [
    "num = int(input('Please enter a number: '))\n",
    "\n",
    "print('User has entered %d. Bye' % num)"
   ]
  },
  {
   "cell_type": "code",
   "execution_count": 15,
   "id": "ca0bbda3",
   "metadata": {},
   "outputs": [
    {
     "name": "stdout",
     "output_type": "stream",
     "text": [
      "5 6 string\n",
      "5 6 string\n",
      "5 6 string\n",
      "5 6 string\n"
     ]
    }
   ],
   "source": [
    "a = 5\n",
    "b = 6\n",
    "c = 'string'\n",
    "print(a, b, c)\n",
    "print('%d %d %s' % (a, b, c))\n",
    "print('{} {} {}'.format(a, b, c))\n",
    "print('{0} {1} {2}'.format(a, b, c))"
   ]
  },
  {
   "cell_type": "code",
   "execution_count": 16,
   "id": "116e7b5e",
   "metadata": {},
   "outputs": [
    {
     "name": "stdout",
     "output_type": "stream",
     "text": [
      "545454545454\n",
      "5 6 7\n",
      "Python 1 2\n",
      "1!2!3\n",
      "1,2,3!!\n",
      "123\n"
     ]
    }
   ],
   "source": [
    "print('54'*6)\n",
    "print(5,6,7) # sep = ' ', end = '\\n'\n",
    "print('Python', 1, 2)\n",
    "print(1,2,3, sep='!')\n",
    "print(1,2,3, sep=',', end='!!\\n')\n",
    "print(123)"
   ]
  },
  {
   "cell_type": "code",
   "execution_count": 17,
   "id": "c29c6bd7",
   "metadata": {},
   "outputs": [
    {
     "name": "stdout",
     "output_type": "stream",
     "text": [
      "Raju says \"hi\"\n"
     ]
    }
   ],
   "source": [
    "print('Raju says \"hi\"')"
   ]
  },
  {
   "cell_type": "code",
   "execution_count": 18,
   "id": "c8afba49",
   "metadata": {},
   "outputs": [],
   "source": [
    "#Operators in python are:\n",
    "\n",
    "#Arithmatic (+, -, , /, %, //, **)\n",
    "#Relational (>, >=, <, <=)\n",
    "#Equality (==, !=)\n",
    "#Logical (and, or, not)\n",
    "#Bitwise (&, |, ^, ~, <<, >>)\n",
    "#Assignment (=, +=, -=, *=, /=, etc..)\n",
    "#Ternary\n",
    "#Identity --> is, is not (used for address comparision)\n",
    "#Membership --> in, not in"
   ]
  },
  {
   "cell_type": "code",
   "execution_count": 19,
   "id": "7ff635f7",
   "metadata": {},
   "outputs": [
    {
     "name": "stdout",
     "output_type": "stream",
     "text": [
      "a+b =  14\n",
      "a-b =  6\n",
      "a*b =  40\n",
      "a/b =  2.5\n",
      "a%b =  2\n",
      "a//b =  2\n",
      "a**b =  10000\n"
     ]
    }
   ],
   "source": [
    "a = 10;\n",
    "b = 4;\n",
    "print('a+b = ', a+b);\n",
    "print('a-b = ', a-b);\n",
    "print('a*b = ', a*b);\n",
    "print('a/b = ', a/b);\n",
    "print('a%b = ', a%b);\n",
    "print('a//b = ', a//b);\n",
    "print('a**b = ', a**b);"
   ]
  },
  {
   "cell_type": "code",
   "execution_count": 20,
   "id": "33daaf93",
   "metadata": {},
   "outputs": [
    {
     "name": "stdout",
     "output_type": "stream",
     "text": [
      "a<b =  False\n",
      "a<=b =  False\n",
      "a>b =  True\n",
      "a>=b =  True\n"
     ]
    }
   ],
   "source": [
    "#Relational\n",
    "a = 10;\n",
    "b = 6;\n",
    "print('a<b = ', a<b);\n",
    "print('a<=b = ', a<=b);\n",
    "print('a>b = ', a>b);\n",
    "print('a>=b = ', a>=b);"
   ]
  },
  {
   "cell_type": "code",
   "execution_count": 21,
   "id": "771c812e",
   "metadata": {},
   "outputs": [
    {
     "name": "stdout",
     "output_type": "stream",
     "text": [
      "a==b  False\n",
      "a!=b  True\n"
     ]
    }
   ],
   "source": [
    "# Equality Operators\n",
    "\n",
    "a = 10;\n",
    "b = 6;\n",
    "print('a==b ', a==b);\n",
    "print('a!=b ', a!=b);"
   ]
  },
  {
   "cell_type": "code",
   "execution_count": 22,
   "id": "5260b0f3",
   "metadata": {},
   "outputs": [
    {
     "name": "stdout",
     "output_type": "stream",
     "text": [
      "False\n",
      "True\n",
      "True\n"
     ]
    }
   ],
   "source": [
    "# Logical Operators\n",
    "\n",
    "print(5 < 6 and 6 < 6)\n",
    "print(5 < 6 or 6 < 6)\n",
    "print(not(5 < 6 and 6 < 6))"
   ]
  },
  {
   "cell_type": "code",
   "execution_count": 23,
   "id": "7a11cacf",
   "metadata": {},
   "outputs": [],
   "source": [
    "# Bitwise\n",
    "# & -> if both bits are 1 then 1 otherwise 0\n",
    "# | -> if both bits are 0 then 0 otherwise 1\n",
    "# ^ -> if both bits are different then 1 otherwise 0\n",
    "# ~ -> bitwise complement"
   ]
  },
  {
   "cell_type": "code",
   "execution_count": 24,
   "id": "60e16216",
   "metadata": {},
   "outputs": [
    {
     "name": "stdout",
     "output_type": "stream",
     "text": [
      "20\n",
      "5\n"
     ]
    }
   ],
   "source": [
    "# Shift Operators\n",
    "\n",
    "print(10 << 1);\n",
    "print(10 >> 1);"
   ]
  },
  {
   "cell_type": "code",
   "execution_count": 25,
   "id": "44dc5d6b",
   "metadata": {},
   "outputs": [
    {
     "name": "stdout",
     "output_type": "stream",
     "text": [
      "20\n"
     ]
    }
   ],
   "source": [
    "# Assignment Operators\n",
    "\n",
    "x = 10;\n",
    "x += 10;\n",
    "print(x);"
   ]
  },
  {
   "cell_type": "code",
   "execution_count": 26,
   "id": "c9c6d9a3",
   "metadata": {},
   "outputs": [
    {
     "name": "stdout",
     "output_type": "stream",
     "text": [
      "5 6\n"
     ]
    }
   ],
   "source": [
    "# Ternary\n",
    "\n",
    "x = 5 if (5 < 6) else 6\n",
    "y = 5 if (5 > 6) else 6\n",
    "print(x, y)"
   ]
  },
  {
   "cell_type": "code",
   "execution_count": null,
   "id": "004c7510",
   "metadata": {},
   "outputs": [],
   "source": []
  }
 ],
 "metadata": {
  "kernelspec": {
   "display_name": "Python 3 (ipykernel)",
   "language": "python",
   "name": "python3"
  },
  "language_info": {
   "codemirror_mode": {
    "name": "ipython",
    "version": 3
   },
   "file_extension": ".py",
   "mimetype": "text/x-python",
   "name": "python",
   "nbconvert_exporter": "python",
   "pygments_lexer": "ipython3",
   "version": "3.8.8"
  }
 },
 "nbformat": 4,
 "nbformat_minor": 5
}
