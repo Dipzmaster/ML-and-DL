{
 "cells": [
  {
   "cell_type": "code",
   "execution_count": 1,
   "id": "66d47d1c",
   "metadata": {},
   "outputs": [],
   "source": [
    "#SymPy is a Python library for symbolic mathematical calculations."
   ]
  },
  {
   "cell_type": "code",
   "execution_count": 2,
   "id": "4c652b98",
   "metadata": {},
   "outputs": [
    {
     "name": "stdout",
     "output_type": "stream",
     "text": [
      "x + y + z\n"
     ]
    }
   ],
   "source": [
    "from sympy import *\n",
    "\n",
    "x = Symbol('x')\n",
    "y, z = symbols('y z')\n",
    "\n",
    "print(x + y + z)"
   ]
  },
  {
   "cell_type": "code",
   "execution_count": 3,
   "id": "d6dd03f7",
   "metadata": {},
   "outputs": [
    {
     "name": "stdout",
     "output_type": "stream",
     "text": [
      "sqrt(x**2)\n"
     ]
    }
   ],
   "source": [
    "from sympy import *\n",
    "\n",
    "x = Symbol('x')\n",
    "print(sqrt(x**2))"
   ]
  },
  {
   "cell_type": "code",
   "execution_count": 4,
   "id": "24b00a74",
   "metadata": {},
   "outputs": [
    {
     "name": "stdout",
     "output_type": "stream",
     "text": [
      "2 + 5*I\n",
      "-1\n"
     ]
    }
   ],
   "source": [
    "from sympy import *\n",
    "x = 2+5*I\n",
    "\n",
    "print(x)\n",
    "print(I**2)"
   ]
  },
  {
   "cell_type": "code",
   "execution_count": 5,
   "id": "5d1a0ab3",
   "metadata": {},
   "outputs": [
    {
     "name": "stdout",
     "output_type": "stream",
     "text": [
      "Type of y is <class 'sympy.core.add.Add'>\n",
      "Type of y is <class 'complex'>\n"
     ]
    }
   ],
   "source": [
    "from sympy import *\n",
    "x = 2+5*I\n",
    "\n",
    "print(\"Type of y is\", type(x))\n",
    "\n",
    "y = complex(x) # converting x to Python complex type\n",
    "print(\"Type of y is\", type(y))"
   ]
  },
  {
   "cell_type": "code",
   "execution_count": 6,
   "id": "cc8e2750",
   "metadata": {},
   "outputs": [
    {
     "name": "stdout",
     "output_type": "stream",
     "text": [
      "Addition: 22/15\n",
      "Subtraction: 2/15\n",
      "Multiplication: 8/15\n",
      "Division: 6/5\n"
     ]
    }
   ],
   "source": [
    "from sympy import *\n",
    "\n",
    "x = Rational(4, 5)\n",
    "y = Rational(4, 6)\n",
    "\n",
    "print(\"Addition:\", x + y)\n",
    "print(\"Subtraction:\", x - y)\n",
    "print(\"Multiplication:\", x * y)\n",
    "print(\"Division:\", x / y)"
   ]
  },
  {
   "cell_type": "code",
   "execution_count": 7,
   "id": "994714ec",
   "metadata": {},
   "outputs": [
    {
     "name": "stdout",
     "output_type": "stream",
     "text": [
      "Addition: 1.4666666666666666667\n",
      "Subtraction: 0.1333333333\n",
      "Multiplication: 0.5333333\n",
      "Division: 1.20\n"
     ]
    }
   ],
   "source": [
    "from sympy import *\n",
    "\n",
    "x = Rational(4, 5)\n",
    "y = Rational(4, 6)\n",
    "\n",
    "print(\"Addition:\", (x + y).evalf(20))\n",
    "print(\"Subtraction:\", (x - y).evalf(10))\n",
    "print(\"Multiplication:\", (x * y).evalf(7))\n",
    "print(\"Division:\", (x / y).evalf(3))"
   ]
  },
  {
   "cell_type": "code",
   "execution_count": 8,
   "id": "b1c8c5ca",
   "metadata": {},
   "outputs": [
    {
     "name": "stdout",
     "output_type": "stream",
     "text": [
      "45\n"
     ]
    }
   ],
   "source": [
    "from sympy import *\n",
    "\n",
    "x, y, z = symbols('x, y, z')\n",
    "\n",
    "z = (2 * y**3) + (3 * x**2) + 2\n",
    "output = z.subs({'y': 2, 'x': 3})\n",
    "print(output)"
   ]
  },
  {
   "cell_type": "markdown",
   "id": "5b37511a",
   "metadata": {},
   "source": [
    "# Simplification"
   ]
  },
  {
   "cell_type": "code",
   "execution_count": 9,
   "id": "1b0fceb0",
   "metadata": {},
   "outputs": [
    {
     "name": "stdout",
     "output_type": "stream",
     "text": [
      "x + 1\n"
     ]
    }
   ],
   "source": [
    "from sympy import *\n",
    "\n",
    "x = Symbol('x')\n",
    "y = Symbol('y')\n",
    "a = (x + x**2)/(x*sin(y)**2 + x*cos(y)**2)\n",
    "print(simplify(a))"
   ]
  },
  {
   "cell_type": "code",
   "execution_count": 10,
   "id": "98919e8b",
   "metadata": {},
   "outputs": [
    {
     "name": "stdout",
     "output_type": "stream",
     "text": [
      "sin(x)**2 + tan(2*x)\n"
     ]
    }
   ],
   "source": [
    "from sympy import *\n",
    "\n",
    "x = Symbol('x')\n",
    "a = (2*tan(x) / (1 - tan(x)**2)) + ((1 -  cos(2*x)) / 2)\n",
    "\n",
    "print(trigsimp(a))"
   ]
  },
  {
   "cell_type": "code",
   "execution_count": 11,
   "id": "aea310d6",
   "metadata": {},
   "outputs": [
    {
     "name": "stdout",
     "output_type": "stream",
     "text": [
      "x**4 + 14*x**3 + 71*x**2 + 154*x + 120\n"
     ]
    }
   ],
   "source": [
    "from sympy import *\n",
    "\n",
    "x = Symbol('x')\n",
    "a = ((x + 2) * (x + 3) * (x + 4) * (x + 5))\n",
    "print(expand(a))"
   ]
  },
  {
   "cell_type": "code",
   "execution_count": 12,
   "id": "4a0f6e5d",
   "metadata": {},
   "outputs": [
    {
     "name": "stdout",
     "output_type": "stream",
     "text": [
      "(x + 2)*(x + 3)*(x + 4)*(x + 5)\n"
     ]
    }
   ],
   "source": [
    "from sympy import *\n",
    "\n",
    "x = Symbol('x')\n",
    "a = (x**4 + 14*x**3 + 71*x**2 + 154*x + 120)\n",
    "print(factor(a))"
   ]
  },
  {
   "cell_type": "code",
   "execution_count": 13,
   "id": "4d647847",
   "metadata": {},
   "outputs": [
    {
     "name": "stdout",
     "output_type": "stream",
     "text": [
      "x**2*(1 - 3*y) + x*(3*y**2 + 1) - 1\n"
     ]
    }
   ],
   "source": [
    "from sympy import *\n",
    "\n",
    "x = Symbol('x')\n",
    "y = Symbol('y')\n",
    "a = (x**2 + 3*y**2*x - 3*x**2*y + x - 1)\n",
    "print(collect(a, x))"
   ]
  },
  {
   "cell_type": "code",
   "execution_count": 14,
   "id": "44a7c9d1",
   "metadata": {},
   "outputs": [
    {
     "name": "stdout",
     "output_type": "stream",
     "text": [
      "5/(2*x + 3) + 3/(2*x + 1) + 5/(3*(x - 1))\n"
     ]
    }
   ],
   "source": [
    "from sympy import *\n",
    "\n",
    "x = Symbol('x')\n",
    "a = (68*x**2 + 34*x - 27)/(3*(4*x**3 + 4*x**2 - 5*x - 3)) \n",
    "print(apart(a))"
   ]
  },
  {
   "cell_type": "code",
   "execution_count": 15,
   "id": "53dc9de5",
   "metadata": {},
   "outputs": [
    {
     "name": "stdout",
     "output_type": "stream",
     "text": [
      "(x + 1)/x**2\n"
     ]
    }
   ],
   "source": [
    "x = Symbol('x')\n",
    "a = 1/x + 1/x**2 \n",
    "print(together(a))"
   ]
  },
  {
   "cell_type": "code",
   "execution_count": null,
   "id": "eed47b1b",
   "metadata": {},
   "outputs": [],
   "source": []
  }
 ],
 "metadata": {
  "kernelspec": {
   "display_name": "Python 3 (ipykernel)",
   "language": "python",
   "name": "python3"
  },
  "language_info": {
   "codemirror_mode": {
    "name": "ipython",
    "version": 3
   },
   "file_extension": ".py",
   "mimetype": "text/x-python",
   "name": "python",
   "nbconvert_exporter": "python",
   "pygments_lexer": "ipython3",
   "version": "3.8.8"
  }
 },
 "nbformat": 4,
 "nbformat_minor": 5
}
