{
 "cells": [
  {
   "cell_type": "code",
   "execution_count": 1,
   "id": "66282f74",
   "metadata": {},
   "outputs": [
    {
     "name": "stdout",
     "output_type": "stream",
     "text": [
      "3*(s*(s**2 + 1) + 4*(s + 1)*(s + 2))/((s + 1)*(s + 2)*(s**2 + 1))\n"
     ]
    }
   ],
   "source": [
    "from sympy import *\n",
    "\n",
    "s = Symbol('s')\n",
    "\n",
    "G1 = 1 / s\n",
    "G2 = 1 / (s + 1)\n",
    "G3 = s / (s + 2)\n",
    "G4 = 4\n",
    "G5 = 1 / (s**2 + 1)\n",
    "G6 = 3 * s\n",
    "\n",
    "tf = together(G1 * ((G2 * G3) + (G4 * G5)) * G6)\n",
    "\n",
    "print(tf)"
   ]
  },
  {
   "cell_type": "code",
   "execution_count": 2,
   "id": "c0f27c77",
   "metadata": {},
   "outputs": [
    {
     "name": "stdout",
     "output_type": "stream",
     "text": [
      "[-1.62049546-2.81319266j -1.62049546+2.81319266j -0.75900907+0.j        ]\n",
      "[-2.+0.j -1.+0.j  0.-1.j  0.+1.j]\n"
     ]
    }
   ],
   "source": [
    "from sympy import *\n",
    "import numpy as np\n",
    "\n",
    "s = Symbol('s')\n",
    "tf = 3 * (s * (s**2 + 1) + 4 * (s + 1) * (s + 2)) / ((s + 1) * (s + 2) * (s**2 + 1))\n",
    "\n",
    "n_solve = solve(numer(tf))\n",
    "d_solve = solve(denom(tf))\n",
    "\n",
    "zeros = np.array([complex(item) for item in n_solve])\n",
    "poles = np.array([complex(item) for item in d_solve])\n",
    "\n",
    "print(zeros)\n",
    "print(poles)"
   ]
  },
  {
   "cell_type": "code",
   "execution_count": 4,
   "id": "829d8b77",
   "metadata": {},
   "outputs": [
    {
     "data": {
      "text/plain": [
       "<matplotlib.legend.Legend at 0x20c7daee880>"
      ]
     },
     "execution_count": 4,
     "metadata": {},
     "output_type": "execute_result"
    },
    {
     "data": {
      "image/png": "[encoded data removed]",
      "text/plain": [
       "<Figure size 432x288 with 1 Axes>"
      ]
     },
     "metadata": {
      "needs_background": "light"
     },
     "output_type": "display_data"
    }
   ],
   "source": [
    "from sympy import *\n",
    "import numpy as np\n",
    "import matplotlib.pyplot as plt\n",
    "\n",
    "s = Symbol('s')\n",
    "tf = 3 * (s * (s**2 + 1) + 4 * (s + 1) * (s + 2))/((s + 1) * (s + 2) * (s**2 + 1))\n",
    "\n",
    "n_solve = solve(numer(tf))\n",
    "d_solve = solve(denom(tf))\n",
    "\n",
    "zeros = np.array([complex(item) for item in n_solve])\n",
    "poles = np.array([complex(item) for item in d_solve])\n",
    "\n",
    "plt.axhline(y=0, color='k')\n",
    "plt.axvline(x=0, color='k')\n",
    "plt.title('Pole-Zero Plot')\n",
    "plt.xlabel('real')\n",
    "plt.ylabel('imaginary')\n",
    "plt.scatter(zeros.real, zeros.imag, marker='o', label='zero')\n",
    "plt.scatter(poles.real, poles.imag, marker='x', label='pole')\n",
    "plt.legend()\n",
    "#plt.savefig('output/plot.png')"
   ]
  },
  {
   "cell_type": "code",
   "execution_count": 5,
   "id": "a46cc1b6",
   "metadata": {},
   "outputs": [
    {
     "name": "stdout",
     "output_type": "stream",
     "text": [
      "1/6\n"
     ]
    }
   ],
   "source": [
    "from sympy import *\n",
    "s = Symbol('s')\n",
    "\n",
    "in1 = 1 + s\n",
    "in2 = s\n",
    "G1 = 1 / s\n",
    "G2 = 1 / (s + 1)\n",
    "G3 = 1 / (s**2 + 2)\n",
    "G4 = 4\n",
    "\n",
    "in11 = ((in1 + in2) * in2) * G1 * G2\n",
    "in22 = in2 * G3 * G4\n",
    "\n",
    "output = together(in11 - in22) \n",
    "x = output.subs({s: 1})\n",
    "print(x)"
   ]
  },
  {
   "cell_type": "code",
   "execution_count": null,
   "id": "4a3d13ac",
   "metadata": {},
   "outputs": [],
   "source": []
  }
 ],
 "metadata": {
  "kernelspec": {
   "display_name": "Python 3 (ipykernel)",
   "language": "python",
   "name": "python3"
  },
  "language_info": {
   "codemirror_mode": {
    "name": "ipython",
    "version": 3
   },
   "file_extension": ".py",
   "mimetype": "text/x-python",
   "name": "python",
   "nbconvert_exporter": "python",
   "pygments_lexer": "ipython3",
   "version": "3.8.8"
  }
 },
 "nbformat": 4,
 "nbformat_minor": 5
}
