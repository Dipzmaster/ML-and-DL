{
 "cells": [
  {
   "cell_type": "code",
   "execution_count": 1,
   "id": "6078ac4f",
   "metadata": {},
   "outputs": [
    {
     "name": "stdout",
     "output_type": "stream",
     "text": [
      "[[1 2]\n",
      " [0 2]]\n"
     ]
    }
   ],
   "source": [
    "import numpy as np\n",
    "\n",
    "C1 = np.array([[1, -1],[1, 0]])\n",
    "C2 = np.array([[1, 1],[1, 0]])\n",
    "C3 = np.array([[1, -1],[1, 1]])\n",
    "C4 = np.array([[1, 0],[0, 1]])\n",
    "C5 = np.array([[0, 1],[1, 1]])\n",
    "C6 = np.array([[1, 0],[0, 1]])\n",
    "\n",
    "arrs = [C1, C2, C3, C4, C5, C6]\n",
    "\n",
    "system = np.array([[1, 0],[0, 1]])    # unit martrix\n",
    "for i in range(len(arrs)):\n",
    "    system = np.dot(system, arrs[i]) \n",
    "\n",
    "print(system)"
   ]
  },
  {
   "cell_type": "code",
   "execution_count": 2,
   "id": "d72d76c1",
   "metadata": {},
   "outputs": [
    {
     "name": "stdout",
     "output_type": "stream",
     "text": [
      "Eigenvalues: [1. 2.]\n",
      "Eigenvectors: [[1.         0.89442719]\n",
      " [0.         0.4472136 ]]\n"
     ]
    }
   ],
   "source": [
    "import numpy as np\n",
    "\n",
    "system = np.array([[1, 2],[0, 2]])\n",
    "\n",
    "evals, evecs = np.linalg.eig(system)\n",
    "print(\"Eigenvalues:\", evals)\n",
    "print(\"Eigenvectors:\", evecs)"
   ]
  },
  {
   "cell_type": "code",
   "execution_count": 3,
   "id": "6dd051e8",
   "metadata": {},
   "outputs": [
    {
     "name": "stdout",
     "output_type": "stream",
     "text": [
      "[-2.   0.5]\n"
     ]
    }
   ],
   "source": [
    "import numpy as np\n",
    "\n",
    "system = np.array([[1, 2],[0, 2]]) \n",
    "out_vec = np.array([-1, 1])\n",
    "\n",
    "in_vec = np.linalg.solve(system, out_vec)\n",
    "print(in_vec)"
   ]
  },
  {
   "cell_type": "code",
   "execution_count": null,
   "id": "66770672",
   "metadata": {},
   "outputs": [],
   "source": []
  }
 ],
 "metadata": {
  "kernelspec": {
   "display_name": "Python 3 (ipykernel)",
   "language": "python",
   "name": "python3"
  },
  "language_info": {
   "codemirror_mode": {
    "name": "ipython",
    "version": 3
   },
   "file_extension": ".py",
   "mimetype": "text/x-python",
   "name": "python",
   "nbconvert_exporter": "python",
   "pygments_lexer": "ipython3",
   "version": "3.8.8"
  }
 },
 "nbformat": 4,
 "nbformat_minor": 5
}
