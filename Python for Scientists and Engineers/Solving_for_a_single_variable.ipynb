{
 "cells": [
  {
   "cell_type": "code",
   "execution_count": 1,
   "id": "da45b222",
   "metadata": {},
   "outputs": [],
   "source": [
    "#Single solution"
   ]
  },
  {
   "cell_type": "code",
   "execution_count": 2,
   "id": "0449b76d",
   "metadata": {},
   "outputs": [
    {
     "name": "stdout",
     "output_type": "stream",
     "text": [
      "[-3/2]\n"
     ]
    }
   ],
   "source": [
    "from sympy import *\n",
    "\n",
    "def f(x):\n",
    "    return 2*x + 3\n",
    "\n",
    "x = Symbol('x')\n",
    "sol = solve(f(x), x)\n",
    "print(sol) "
   ]
  },
  {
   "cell_type": "code",
   "execution_count": 3,
   "id": "d86fedb7",
   "metadata": {},
   "outputs": [],
   "source": [
    "#Multiple solution"
   ]
  },
  {
   "cell_type": "code",
   "execution_count": 4,
   "id": "54c9c443",
   "metadata": {},
   "outputs": [
    {
     "name": "stdout",
     "output_type": "stream",
     "text": [
      "[-2, 3]\n"
     ]
    }
   ],
   "source": [
    "from sympy import *\n",
    "\n",
    "def f(x):\n",
    "    return x**2 - x - 6\n",
    "\n",
    "x = Symbol('x')\n",
    "sol = solve(f(x), x)\n",
    "print(sol) "
   ]
  },
  {
   "cell_type": "code",
   "execution_count": 5,
   "id": "3cd3adc9",
   "metadata": {},
   "outputs": [
    {
     "name": "stdout",
     "output_type": "stream",
     "text": [
      "[-2 - I, -2 + I]\n"
     ]
    }
   ],
   "source": [
    "from sympy import *\n",
    "\n",
    "def f(x):\n",
    "    return x**2 + 4*x + 5\n",
    "\n",
    "x = Symbol('x')\n",
    "sol = solve(f(x), x)\n",
    "print(sol) "
   ]
  },
  {
   "cell_type": "code",
   "execution_count": 6,
   "id": "9e88e769",
   "metadata": {},
   "outputs": [],
   "source": [
    "#Interval solution"
   ]
  },
  {
   "cell_type": "code",
   "execution_count": 7,
   "id": "05ca8375",
   "metadata": {},
   "outputs": [
    {
     "name": "stdout",
     "output_type": "stream",
     "text": [
      "(4 < x) & (x < oo)\n",
      "((-oo < x) & (x < -2)) | ((2 < x) & (x < oo))\n"
     ]
    }
   ],
   "source": [
    "from sympy import *\n",
    "\n",
    "def f(x):\n",
    "    return x - 4 \n",
    "\n",
    "def g(x):\n",
    "    return x**2 - 4 \n",
    "\n",
    "x = Symbol('x')\n",
    "sol1 = solve(f(x) > 0, x)\n",
    "print(sol1) \n",
    "sol2 = solve(g(x) > 0, x)\n",
    "print(sol2)"
   ]
  },
  {
   "cell_type": "code",
   "execution_count": 8,
   "id": "4f6736da",
   "metadata": {},
   "outputs": [],
   "source": [
    "#Trigonometric equations"
   ]
  },
  {
   "cell_type": "code",
   "execution_count": 9,
   "id": "40c6f6d4",
   "metadata": {},
   "outputs": [
    {
     "name": "stdout",
     "output_type": "stream",
     "text": [
      "[-pi/3, pi/3]\n"
     ]
    }
   ],
   "source": [
    "from sympy import *\n",
    "\n",
    "def f(x):\n",
    "    return tan(x)**2 - 3 \n",
    "\n",
    "x = Symbol('x')\n",
    "sol = solve(f(x), x)\n",
    "print(sol) "
   ]
  },
  {
   "cell_type": "code",
   "execution_count": 10,
   "id": "499fd713",
   "metadata": {},
   "outputs": [
    {
     "name": "stdout",
     "output_type": "stream",
     "text": [
      "{x: 1, y: 2, z: -1}\n",
      "<class 'dict'>\n",
      "x = 1\n",
      "y = 2\n",
      "z = -1\n"
     ]
    }
   ],
   "source": [
    "from sympy import *\n",
    "\n",
    "x, y, z = symbols('x y z')\n",
    "# defining eqautions \n",
    "eq1 = x + y - z - 4\n",
    "eq2 = x - 2*y + 3*z + 6\n",
    "eq3 = 2*x +3*y + z - 7 \n",
    "\n",
    "sol = solve([eq1, eq2, eq3], [x, y, z])\n",
    "\n",
    "print(sol)\n",
    "print(type(sol))\n",
    "print(\"x =\", sol[x])\n",
    "print(\"y =\", sol[y])\n",
    "print(\"z =\", sol[z])"
   ]
  },
  {
   "cell_type": "code",
   "execution_count": 11,
   "id": "31ec423a",
   "metadata": {},
   "outputs": [],
   "source": [
    "#Symbolic solution"
   ]
  },
  {
   "cell_type": "code",
   "execution_count": 12,
   "id": "240cc7a4",
   "metadata": {},
   "outputs": [
    {
     "name": "stdout",
     "output_type": "stream",
     "text": [
      "{x: 11*a/13 - 4*b/13 - c/13, y: -5*a/13 + 3*b/13 + 4*c/13, z: -7*a/13 - b/13 + 3*c/13}\n",
      "x = 11*a/13 - 4*b/13 - c/13\n",
      "y = -5*a/13 + 3*b/13 + 4*c/13\n",
      "z = -7*a/13 - b/13 + 3*c/13\n"
     ]
    }
   ],
   "source": [
    "from sympy import *\n",
    "\n",
    "x, y, z = symbols('x y z')\n",
    "a, b, c = symbols('a b c')\n",
    "# defining eqautions \n",
    "eq1 = x + y - z - a\n",
    "eq2 = x - 2*y + 3*z + b\n",
    "eq3 = 2*x +3*y + z - c \n",
    "\n",
    "sol = solve([eq1, eq2, eq3], [x, y, z])\n",
    "\n",
    "print(sol)\n",
    "\n",
    "print(\"x =\", sol[x])\n",
    "print(\"y =\", sol[y])\n",
    "print(\"z =\", sol[z])"
   ]
  },
  {
   "cell_type": "code",
   "execution_count": null,
   "id": "0a7f61c9",
   "metadata": {},
   "outputs": [],
   "source": []
  }
 ],
 "metadata": {
  "kernelspec": {
   "display_name": "Python 3 (ipykernel)",
   "language": "python",
   "name": "python3"
  },
  "language_info": {
   "codemirror_mode": {
    "name": "ipython",
    "version": 3
   },
   "file_extension": ".py",
   "mimetype": "text/x-python",
   "name": "python",
   "nbconvert_exporter": "python",
   "pygments_lexer": "ipython3",
   "version": "3.8.8"
  }
 },
 "nbformat": 4,
 "nbformat_minor": 5
}
